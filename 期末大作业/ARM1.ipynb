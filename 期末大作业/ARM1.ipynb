{
 "cells": [
  {
   "cell_type": "code",
   "execution_count": 1,
   "id": "83d50755",
   "metadata": {},
   "outputs": [],
   "source": [
    "import pandas as pd\n",
    "import numpy as np\n",
    "import matplotlib.pyplot as plt\n",
    "import warnings\n",
    "warnings.filterwarnings('ignore')"
   ]
  },
  {
   "cell_type": "code",
   "execution_count": 128,
   "id": "ba227359",
   "metadata": {},
   "outputs": [],
   "source": [
    "from mlxtend.frequent_patterns import apriori,fpgrowth\n",
    "from mlxtend.frequent_patterns import association_rules\n",
    "from mlxtend.preprocessing import TransactionEncoder"
   ]
  },
  {
   "cell_type": "code",
   "execution_count": 153,
   "id": "10dcaaf6",
   "metadata": {},
   "outputs": [],
   "source": [
    "from pyecharts import options as opts\n",
    "from pyecharts.charts import Scatter,Pie\n",
    "from pyecharts.globals import ChartType,ThemeType"
   ]
  },
  {
   "cell_type": "markdown",
   "id": "e6e971d0",
   "metadata": {},
   "source": [
    "## 数据清洗与处理"
   ]
  },
  {
   "cell_type": "markdown",
   "id": "9d06aa2a",
   "metadata": {},
   "source": [
    "#### 缺失值"
   ]
  },
  {
   "cell_type": "code",
   "execution_count": 9,
   "id": "bfddb5b0",
   "metadata": {},
   "outputs": [
    {
     "name": "stdout",
     "output_type": "stream",
     "text": [
      "   seller_id  buyer_id  product_id  product_price  sold_quantity\n",
      "0          1        71        4776           21.0           20.0\n",
      "1          1       121        2837           23.0           83.0\n",
      "2          1       554        3248           21.0           44.0\n",
      "3          1       573        2852           27.0           29.0\n",
      "4          1       573        4114           25.0          105.0\n",
      "transaction数据集共有 5078 行，以及 5 个变量\n"
     ]
    }
   ],
   "source": [
    "transaction = pd.read_excel('DM22Final_Project.xlsx',sheet_name=0)\n",
    "print(transaction.head())\n",
    "print('transaction数据集共有',transaction.shape[0],'行，以及',transaction.shape[1],'个变量')"
   ]
  },
  {
   "cell_type": "code",
   "execution_count": 10,
   "id": "e22f897b",
   "metadata": {},
   "outputs": [
    {
     "name": "stdout",
     "output_type": "stream",
     "text": [
      "数据集在 ‘sold_quantity’ 字段有 2 个缺失值\n",
      "删除缺失值所在行，共 2 行\n",
      "transaction数据集共有 5076 行，以及 5 个变量\n"
     ]
    }
   ],
   "source": [
    "print('数据集在 ‘sold_quantity’ 字段有',transaction.isna().sum()['sold_quantity'],'个缺失值')\n",
    "print('删除缺失值所在行，共',transaction.isna().sum()['sold_quantity'],'行')\n",
    "transaction=transaction.dropna()\n",
    "transaction.index=range(len(transaction))\n",
    "print('transaction数据集共有',transaction.shape[0],'行，以及',transaction.shape[1],'个变量')"
   ]
  },
  {
   "cell_type": "markdown",
   "id": "3ecd9d52",
   "metadata": {},
   "source": [
    "#### 异常值"
   ]
  },
  {
   "cell_type": "code",
   "execution_count": 12,
   "id": "af9c25c8",
   "metadata": {},
   "outputs": [
    {
     "data": {
      "text/html": [
       "<div>\n",
       "<style scoped>\n",
       "    .dataframe tbody tr th:only-of-type {\n",
       "        vertical-align: middle;\n",
       "    }\n",
       "\n",
       "    .dataframe tbody tr th {\n",
       "        vertical-align: top;\n",
       "    }\n",
       "\n",
       "    .dataframe thead th {\n",
       "        text-align: right;\n",
       "    }\n",
       "</style>\n",
       "<table border=\"1\" class=\"dataframe\">\n",
       "  <thead>\n",
       "    <tr style=\"text-align: right;\">\n",
       "      <th></th>\n",
       "      <th>product_id</th>\n",
       "      <th>seller_id</th>\n",
       "      <th>product_price</th>\n",
       "      <th>sold_quantity</th>\n",
       "    </tr>\n",
       "  </thead>\n",
       "  <tbody>\n",
       "    <tr>\n",
       "      <th>27</th>\n",
       "      <td>4114</td>\n",
       "      <td>1</td>\n",
       "      <td>21.0</td>\n",
       "      <td>105.0</td>\n",
       "    </tr>\n",
       "    <tr>\n",
       "      <th>31</th>\n",
       "      <td>4127</td>\n",
       "      <td>1</td>\n",
       "      <td>25.0</td>\n",
       "      <td>180.0</td>\n",
       "    </tr>\n",
       "    <tr>\n",
       "      <th>33</th>\n",
       "      <td>4112</td>\n",
       "      <td>1</td>\n",
       "      <td>25.0</td>\n",
       "      <td>58.0</td>\n",
       "    </tr>\n",
       "    <tr>\n",
       "      <th>722</th>\n",
       "      <td>161</td>\n",
       "      <td>3550</td>\n",
       "      <td>49.0</td>\n",
       "      <td>10815.0</td>\n",
       "    </tr>\n",
       "    <tr>\n",
       "      <th>775</th>\n",
       "      <td>5046</td>\n",
       "      <td>3819</td>\n",
       "      <td>59.0</td>\n",
       "      <td>162.0</td>\n",
       "    </tr>\n",
       "  </tbody>\n",
       "</table>\n",
       "</div>"
      ],
      "text/plain": [
       "     product_id  seller_id  product_price  sold_quantity\n",
       "27         4114          1           21.0          105.0\n",
       "31         4127          1           25.0          180.0\n",
       "33         4112          1           25.0           58.0\n",
       "722         161       3550           49.0        10815.0\n",
       "775        5046       3819           59.0          162.0"
      ]
     },
     "execution_count": 12,
     "metadata": {},
     "output_type": "execute_result"
    }
   ],
   "source": [
    "df1 = transaction.loc[:,['product_id','seller_id','product_price','sold_quantity']].drop_duplicates(subset=['product_id','seller_id'], keep='first', inplace=False, ignore_index=True)\n",
    "df2 = transaction.loc[:,['product_id','seller_id','product_price','sold_quantity']].drop_duplicates(subset=None, keep='first', inplace=False, ignore_index=True)\n",
    "pd.concat([df1,df2]).drop_duplicates(keep=False)"
   ]
  },
  {
   "cell_type": "code",
   "execution_count": 14,
   "id": "dd92ffdd",
   "metadata": {},
   "outputs": [
    {
     "data": {
      "text/html": [
       "<div>\n",
       "<style scoped>\n",
       "    .dataframe tbody tr th:only-of-type {\n",
       "        vertical-align: middle;\n",
       "    }\n",
       "\n",
       "    .dataframe tbody tr th {\n",
       "        vertical-align: top;\n",
       "    }\n",
       "\n",
       "    .dataframe thead th {\n",
       "        text-align: right;\n",
       "    }\n",
       "</style>\n",
       "<table border=\"1\" class=\"dataframe\">\n",
       "  <thead>\n",
       "    <tr style=\"text-align: right;\">\n",
       "      <th></th>\n",
       "      <th>seller_id</th>\n",
       "      <th>buyer_id</th>\n",
       "      <th>product_id</th>\n",
       "      <th>product_price</th>\n",
       "      <th>sold_quantity</th>\n",
       "    </tr>\n",
       "  </thead>\n",
       "  <tbody>\n",
       "    <tr>\n",
       "      <th>4</th>\n",
       "      <td>1</td>\n",
       "      <td>573</td>\n",
       "      <td>4114</td>\n",
       "      <td>25.0</td>\n",
       "      <td>105.0</td>\n",
       "    </tr>\n",
       "    <tr>\n",
       "      <th>44</th>\n",
       "      <td>1</td>\n",
       "      <td>1172</td>\n",
       "      <td>4114</td>\n",
       "      <td>21.0</td>\n",
       "      <td>105.0</td>\n",
       "    </tr>\n",
       "    <tr>\n",
       "      <th>71</th>\n",
       "      <td>1</td>\n",
       "      <td>1974</td>\n",
       "      <td>4114</td>\n",
       "      <td>25.0</td>\n",
       "      <td>105.0</td>\n",
       "    </tr>\n",
       "    <tr>\n",
       "      <th>92</th>\n",
       "      <td>1</td>\n",
       "      <td>2676</td>\n",
       "      <td>4114</td>\n",
       "      <td>21.0</td>\n",
       "      <td>105.0</td>\n",
       "    </tr>\n",
       "    <tr>\n",
       "      <th>122</th>\n",
       "      <td>1</td>\n",
       "      <td>3698</td>\n",
       "      <td>4114</td>\n",
       "      <td>21.0</td>\n",
       "      <td>105.0</td>\n",
       "    </tr>\n",
       "    <tr>\n",
       "      <th>145</th>\n",
       "      <td>1</td>\n",
       "      <td>4863</td>\n",
       "      <td>4114</td>\n",
       "      <td>21.0</td>\n",
       "      <td>105.0</td>\n",
       "    </tr>\n",
       "  </tbody>\n",
       "</table>\n",
       "</div>"
      ],
      "text/plain": [
       "     seller_id  buyer_id  product_id  product_price  sold_quantity\n",
       "4            1       573        4114           25.0          105.0\n",
       "44           1      1172        4114           21.0          105.0\n",
       "71           1      1974        4114           25.0          105.0\n",
       "92           1      2676        4114           21.0          105.0\n",
       "122          1      3698        4114           21.0          105.0\n",
       "145          1      4863        4114           21.0          105.0"
      ]
     },
     "execution_count": 14,
     "metadata": {},
     "output_type": "execute_result"
    }
   ],
   "source": [
    "# 发现会出现同一个product以不同的价格购买的问题，在product表中储存为两列\n",
    "transaction[transaction['product_id']==4114]"
   ]
  },
  {
   "cell_type": "markdown",
   "id": "cfb244a2",
   "metadata": {},
   "source": [
    "### 产品信息整理"
   ]
  },
  {
   "cell_type": "code",
   "execution_count": 57,
   "id": "758163d3",
   "metadata": {},
   "outputs": [
    {
     "data": {
      "text/html": [
       "<div>\n",
       "<style scoped>\n",
       "    .dataframe tbody tr th:only-of-type {\n",
       "        vertical-align: middle;\n",
       "    }\n",
       "\n",
       "    .dataframe tbody tr th {\n",
       "        vertical-align: top;\n",
       "    }\n",
       "\n",
       "    .dataframe thead th {\n",
       "        text-align: right;\n",
       "    }\n",
       "</style>\n",
       "<table border=\"1\" class=\"dataframe\">\n",
       "  <thead>\n",
       "    <tr style=\"text-align: right;\">\n",
       "      <th></th>\n",
       "      <th>product_id</th>\n",
       "      <th>product_price</th>\n",
       "      <th>seller_id</th>\n",
       "      <th>sold_quantity</th>\n",
       "      <th>count</th>\n",
       "    </tr>\n",
       "  </thead>\n",
       "  <tbody>\n",
       "    <tr>\n",
       "      <th>0</th>\n",
       "      <td>4850</td>\n",
       "      <td>48.00</td>\n",
       "      <td>3706</td>\n",
       "      <td>0.0</td>\n",
       "      <td>1</td>\n",
       "    </tr>\n",
       "    <tr>\n",
       "      <th>1</th>\n",
       "      <td>4693</td>\n",
       "      <td>22.00</td>\n",
       "      <td>976</td>\n",
       "      <td>0.0</td>\n",
       "      <td>1</td>\n",
       "    </tr>\n",
       "    <tr>\n",
       "      <th>2</th>\n",
       "      <td>4700</td>\n",
       "      <td>20.00</td>\n",
       "      <td>976</td>\n",
       "      <td>0.0</td>\n",
       "      <td>1</td>\n",
       "    </tr>\n",
       "    <tr>\n",
       "      <th>3</th>\n",
       "      <td>4671</td>\n",
       "      <td>85.00</td>\n",
       "      <td>3436</td>\n",
       "      <td>0.0</td>\n",
       "      <td>1</td>\n",
       "    </tr>\n",
       "    <tr>\n",
       "      <th>4</th>\n",
       "      <td>4670</td>\n",
       "      <td>37.24</td>\n",
       "      <td>2800</td>\n",
       "      <td>0.0</td>\n",
       "      <td>1</td>\n",
       "    </tr>\n",
       "  </tbody>\n",
       "</table>\n",
       "</div>"
      ],
      "text/plain": [
       "   product_id  product_price  seller_id  sold_quantity  count\n",
       "0        4850          48.00       3706            0.0      1\n",
       "1        4693          22.00        976            0.0      1\n",
       "2        4700          20.00        976            0.0      1\n",
       "3        4671          85.00       3436            0.0      1\n",
       "4        4670          37.24       2800            0.0      1"
      ]
     },
     "execution_count": 57,
     "metadata": {},
     "output_type": "execute_result"
    }
   ],
   "source": [
    "product=df2.sort_values(by=['product_id'])\n",
    "#以一组（product_id，product_price）标识一件商品\n",
    "product=product.set_index(['product_id','product_price'])\n",
    "product['count']=transaction.groupby(['product_id','product_price'])['seller_id'].count()\n",
    "product=product.reset_index().sort_values(by='sold_quantity',ignore_index=True)\n",
    "product.head()"
   ]
  },
  {
   "cell_type": "code",
   "execution_count": 58,
   "id": "5ca6cfb7",
   "metadata": {},
   "outputs": [
    {
     "data": {
      "text/plain": [
       "Text(0.5, 0, 'product price')"
      ]
     },
     "execution_count": 58,
     "metadata": {},
     "output_type": "execute_result"
    },
    {
     "data": {
      "image/png": "[encoded data removed]",
      "text/plain": [
       "<Figure size 360x216 with 1 Axes>"
      ]
     },
     "metadata": {
      "needs_background": "light"
     },
     "output_type": "display_data"
    }
   ],
   "source": [
    "plt.figure(figsize=(5,3)) \n",
    "product['product_price'].hist(bins=10,color='#2e5282')\n",
    "plt.title('Distribution of product price')\n",
    "plt.xlabel('product price')"
   ]
  },
  {
   "cell_type": "code",
   "execution_count": 59,
   "id": "8b2dbe4a",
   "metadata": {},
   "outputs": [
    {
     "name": "stdout",
     "output_type": "stream",
     "text": [
      "[ 49. 120.]\n"
     ]
    },
    {
     "data": {
      "text/plain": [
       "price_cluster\n",
       "high-end      100\n",
       "low-end       486\n",
       "middle-end    593\n",
       "Name: product_id, dtype: int64"
      ]
     },
     "execution_count": 59,
     "metadata": {},
     "output_type": "execute_result"
    }
   ],
   "source": [
    "print(np.percentile(product['product_price'], [40, 90]))\n",
    "product['price_cluster']='0'\n",
    "product.loc[(product['product_price']>120),['price_cluster']]='high-end'\n",
    "product.loc[(product['product_price']<=120)&(product['product_price']>=50),['price_cluster']]='middle-end'\n",
    "product.loc[(product['product_price']<50),['price_cluster']]='low-end'\n",
    "product.groupby(['price_cluster'])['product_id'].count()"
   ]
  },
  {
   "cell_type": "code",
   "execution_count": 60,
   "id": "dc9231d6",
   "metadata": {},
   "outputs": [
    {
     "data": {
      "text/plain": [
       "Text(0.5, 0, 'sold quantity')"
      ]
     },
     "execution_count": 60,
     "metadata": {},
     "output_type": "execute_result"
    },
    {
     "data": {
      "image/png": "[encoded data removed]",
      "text/plain": [
       "<Figure size 360x216 with 1 Axes>"
      ]
     },
     "metadata": {
      "needs_background": "light"
     },
     "output_type": "display_data"
    }
   ],
   "source": [
    "#product[product['sold_quantity']<=10000]['sold_quantity'].hist(bins=10)\n",
    "plt.figure(figsize=(5,3)) \n",
    "product['sold_quantity'].hist(bins=10,color='#607da3')\n",
    "plt.title('Distribution of sold quantity')\n",
    "plt.xlabel('sold quantity')"
   ]
  },
  {
   "cell_type": "code",
   "execution_count": 61,
   "id": "3131a7a0",
   "metadata": {},
   "outputs": [
    {
     "data": {
      "text/plain": [
       "Text(0.5, 0, 'sold quantity')"
      ]
     },
     "execution_count": 61,
     "metadata": {},
     "output_type": "execute_result"
    },
    {
     "data": {
      "image/png": "[encoded data removed]",
      "text/plain": [
       "<Figure size 360x216 with 1 Axes>"
      ]
     },
     "metadata": {
      "needs_background": "light"
     },
     "output_type": "display_data"
    }
   ],
   "source": [
    "plt.figure(figsize=(5,3)) \n",
    "product[product['sold_quantity']<=925.2]['sold_quantity'].hist(bins=10,color='#c0c9d8')\n",
    "plt.title('Distribution of sold quantity <=925.2')\n",
    "plt.xlabel('sold quantity')"
   ]
  },
  {
   "cell_type": "code",
   "execution_count": 111,
   "id": "001c357f",
   "metadata": {
    "scrolled": true
   },
   "outputs": [
    {
     "name": "stdout",
     "output_type": "stream",
     "text": [
      "[ 83.  303.5 925.2]\n"
     ]
    },
    {
     "data": {
      "text/plain": [
       "quantity_cluster\n",
       "best-seller       118\n",
       "dull-product      567\n",
       "new-product        24\n",
       "normal-product    293\n",
       "well-seller       177\n",
       "Name: product_id, dtype: int64"
      ]
     },
     "execution_count": 111,
     "metadata": {},
     "output_type": "execute_result"
    }
   ],
   "source": [
    "print(np.percentile(product['sold_quantity'], [50, 75, 90]))\n",
    "product['quantity_cluster']='0'\n",
    "product.loc[(product['sold_quantity']==0),['quantity_cluster']]='new-product'\n",
    "product.loc[(product['sold_quantity']>925.2),['quantity_cluster']]='best-seller'\n",
    "product.loc[(product['sold_quantity']<=925.2)&(product['sold_quantity']>303.5),['quantity_cluster']]='well-seller'\n",
    "product.loc[(product['sold_quantity']<=303.5)&(product['sold_quantity']>83),['quantity_cluster']]='normal-product'\n",
    "product.loc[(product['sold_quantity']<=83)&(product['sold_quantity']>0),['quantity_cluster']]='dull-product'\n",
    "product.groupby(['quantity_cluster'])['product_id'].count()"
   ]
  },
  {
   "cell_type": "code",
   "execution_count": 112,
   "id": "abdcfaee",
   "metadata": {},
   "outputs": [
    {
     "data": {
      "text/plain": [
       "cluster\n",
       "best-seller ; high-end          16\n",
       "best-seller ; low-end           55\n",
       "best-seller ; middle-end        47\n",
       "dull-product ; high-end         42\n",
       "dull-product ; low-end         219\n",
       "dull-product ; middle-end      306\n",
       "new-product ; high-end           2\n",
       "new-product ; low-end           15\n",
       "new-product ; middle-end         7\n",
       "normal-product ; high-end       21\n",
       "normal-product ; low-end       106\n",
       "normal-product ; middle-end    166\n",
       "well-seller ; high-end          19\n",
       "well-seller ; low-end           91\n",
       "well-seller ; middle-end        67\n",
       "Name: product_id, dtype: int64"
      ]
     },
     "execution_count": 112,
     "metadata": {},
     "output_type": "execute_result"
    }
   ],
   "source": [
    "product['cluster']='0'\n",
    "for i in range(len(product)):\n",
    "    product['cluster'][i]=product['quantity_cluster'][i]+' ; '+product['price_cluster'][i]\n",
    "product.groupby(['cluster'])['product_id'].count()"
   ]
  },
  {
   "cell_type": "code",
   "execution_count": 113,
   "id": "54d9876b",
   "metadata": {},
   "outputs": [
    {
     "data": {
      "image/png": "[encoded data removed]",
      "text/plain": [
       "<Figure size 720x288 with 1 Axes>"
      ]
     },
     "metadata": {
      "needs_background": "light"
     },
     "output_type": "display_data"
    }
   ],
   "source": [
    "x=product.groupby(['cluster'])['product_id'].count().to_frame().sort_values(by='product_id',ascending=True)\n",
    "data=list(x['product_id'])\n",
    "labels=list(x.index)\n",
    "plt.figure(figsize=(10,4))\n",
    "plt.barh(range(len(data)), data,color='#607da3')\n",
    "plt.yticks(range(len(data)),labels)\n",
    "plt.xlabel(\"frequency\")\n",
    "plt.title(\"products by clusters\")\n",
    "plt.show()"
   ]
  },
  {
   "cell_type": "markdown",
   "id": "322b95f9",
   "metadata": {},
   "source": [
    "### 订单信息整理"
   ]
  },
  {
   "cell_type": "code",
   "execution_count": 114,
   "id": "9de007c9",
   "metadata": {},
   "outputs": [
    {
     "name": "stdout",
     "output_type": "stream",
     "text": [
      "quantity_cluster\n",
      "best-seller       2134\n",
      "dull-product       991\n",
      "new-product         25\n",
      "normal-product     927\n",
      "well-seller        999\n",
      "Name: product_id, dtype: int64\n",
      "price_cluster\n",
      "high-end       569\n",
      "low-end       2283\n",
      "middle-end    2224\n",
      "Name: product_id, dtype: int64\n"
     ]
    }
   ],
   "source": [
    "#transaction.head()\n",
    "transaction['quantity_cluster']='0'\n",
    "transaction.loc[(transaction['sold_quantity']==0),['quantity_cluster']]='new-product'\n",
    "transaction.loc[(transaction['sold_quantity']>925.2),['quantity_cluster']]='best-seller'\n",
    "transaction.loc[(transaction['sold_quantity']<=925.2)&(transaction['sold_quantity']>303.5),['quantity_cluster']]='well-seller'\n",
    "transaction.loc[(transaction['sold_quantity']<=303.5)&(transaction['sold_quantity']>83),['quantity_cluster']]='normal-product'\n",
    "transaction.loc[(transaction['sold_quantity']<=83)&(transaction['sold_quantity']>0),['quantity_cluster']]='dull-product'\n",
    "print(transaction.groupby(['quantity_cluster'])['product_id'].count())\n",
    "transaction['price_cluster']='0'\n",
    "transaction.loc[(transaction['product_price']>120),['price_cluster']]='high-end'\n",
    "transaction.loc[(transaction['product_price']<=120)&(transaction['product_price']>50),['price_cluster']]='middle-end'\n",
    "transaction.loc[(transaction['product_price']<=50),['price_cluster']]='low-end'\n",
    "print(transaction.groupby(['price_cluster'])['product_id'].count())"
   ]
  },
  {
   "cell_type": "code",
   "execution_count": 115,
   "id": "00ef355f",
   "metadata": {},
   "outputs": [],
   "source": [
    "transaction['cluster']='0'\n",
    "for i in range(len(transaction)):\n",
    "    transaction['cluster'][i]=transaction['quantity_cluster'][i]+';'+transaction['price_cluster'][i]"
   ]
  },
  {
   "cell_type": "code",
   "execution_count": 117,
   "id": "6828c32e",
   "metadata": {},
   "outputs": [
    {
     "data": {
      "image/png": "[encoded data removed]",
      "text/plain": [
       "<Figure size 720x288 with 1 Axes>"
      ]
     },
     "metadata": {
      "needs_background": "light"
     },
     "output_type": "display_data"
    }
   ],
   "source": [
    "x=transaction.groupby(['cluster'])['product_id'].count().to_frame().sort_values(by='product_id',ascending=True)\n",
    "data=list(x['product_id'])\n",
    "labels=list(x.index)\n",
    "plt.figure(figsize=(10,4))\n",
    "plt.barh(range(len(data)), data,color='#c0c9d8')\n",
    "plt.yticks(range(len(data)),labels)\n",
    "plt.xlabel(\"frequency\")\n",
    "plt.title(\"transaction by clusters\")\n",
    "plt.show()"
   ]
  },
  {
   "cell_type": "code",
   "execution_count": 121,
   "id": "f12c2022",
   "metadata": {},
   "outputs": [],
   "source": [
    "transaction['order_id']='0'\n",
    "for i in range(len(transaction)):\n",
    "    transaction['order_id'][i]=str(transaction['seller_id'][i])+'-'+str(transaction['buyer_id'][i])"
   ]
  },
  {
   "cell_type": "code",
   "execution_count": 127,
   "id": "79240bbc",
   "metadata": {},
   "outputs": [
    {
     "data": {
      "text/html": [
       "<div>\n",
       "<style scoped>\n",
       "    .dataframe tbody tr th:only-of-type {\n",
       "        vertical-align: middle;\n",
       "    }\n",
       "\n",
       "    .dataframe tbody tr th {\n",
       "        vertical-align: top;\n",
       "    }\n",
       "\n",
       "    .dataframe thead th {\n",
       "        text-align: right;\n",
       "    }\n",
       "</style>\n",
       "<table border=\"1\" class=\"dataframe\">\n",
       "  <thead>\n",
       "    <tr style=\"text-align: right;\">\n",
       "      <th></th>\n",
       "      <th>product_type</th>\n",
       "      <th>product</th>\n",
       "    </tr>\n",
       "    <tr>\n",
       "      <th>order_id</th>\n",
       "      <th></th>\n",
       "      <th></th>\n",
       "    </tr>\n",
       "  </thead>\n",
       "  <tbody>\n",
       "    <tr>\n",
       "      <th>1-1045</th>\n",
       "      <td>[dull-product;low-end]</td>\n",
       "      <td>[3360]</td>\n",
       "    </tr>\n",
       "    <tr>\n",
       "      <th>1-1047</th>\n",
       "      <td>[dull-product;low-end, well-seller;low-end]</td>\n",
       "      <td>[2581, 2587]</td>\n",
       "    </tr>\n",
       "    <tr>\n",
       "      <th>1-1054</th>\n",
       "      <td>[dull-product;low-end, normal-product;low-end]</td>\n",
       "      <td>[4112, 4353]</td>\n",
       "    </tr>\n",
       "    <tr>\n",
       "      <th>1-1079</th>\n",
       "      <td>[normal-product;low-end]</td>\n",
       "      <td>[2915]</td>\n",
       "    </tr>\n",
       "    <tr>\n",
       "      <th>1-1084</th>\n",
       "      <td>[well-seller;low-end]</td>\n",
       "      <td>[2587]</td>\n",
       "    </tr>\n",
       "  </tbody>\n",
       "</table>\n",
       "</div>"
      ],
      "text/plain": [
       "                                            product_type       product\n",
       "order_id                                                              \n",
       "1-1045                            [dull-product;low-end]        [3360]\n",
       "1-1047       [dull-product;low-end, well-seller;low-end]  [2581, 2587]\n",
       "1-1054    [dull-product;low-end, normal-product;low-end]  [4112, 4353]\n",
       "1-1079                          [normal-product;low-end]        [2915]\n",
       "1-1084                             [well-seller;low-end]        [2587]"
      ]
     },
     "execution_count": 127,
     "metadata": {},
     "output_type": "execute_result"
    }
   ],
   "source": [
    "order=transaction.groupby(['order_id'])['cluster'].apply(list).to_frame()\n",
    "order.columns=['product_type']\n",
    "order['product']=transaction.groupby(['order_id'])['product_id'].apply(list)\n",
    "order.head()"
   ]
  },
  {
   "cell_type": "code",
   "execution_count": 129,
   "id": "3d7bab79",
   "metadata": {},
   "outputs": [],
   "source": [
    "transaction.to_csv('transaction_extend.csv')"
   ]
  },
  {
   "cell_type": "markdown",
   "id": "7d5199ae",
   "metadata": {},
   "source": [
    "### 后续关联数据挖掘部分代码见“ARM2”"
   ]
  },
  {
   "cell_type": "markdown",
   "id": "6c0f6adb",
   "metadata": {},
   "source": [
    "### seller信息整理"
   ]
  },
  {
   "cell_type": "code",
   "execution_count": 180,
   "id": "b3e972a2",
   "metadata": {},
   "outputs": [
    {
     "data": {
      "text/html": [
       "<div>\n",
       "<style scoped>\n",
       "    .dataframe tbody tr th:only-of-type {\n",
       "        vertical-align: middle;\n",
       "    }\n",
       "\n",
       "    .dataframe tbody tr th {\n",
       "        vertical-align: top;\n",
       "    }\n",
       "\n",
       "    .dataframe thead th {\n",
       "        text-align: right;\n",
       "    }\n",
       "</style>\n",
       "<table border=\"1\" class=\"dataframe\">\n",
       "  <thead>\n",
       "    <tr style=\"text-align: right;\">\n",
       "      <th></th>\n",
       "      <th>product_number</th>\n",
       "      <th>sold_transaction</th>\n",
       "      <th>product_price_mean</th>\n",
       "      <th>sold_quantity_sum</th>\n",
       "    </tr>\n",
       "    <tr>\n",
       "      <th>seller_id</th>\n",
       "      <th></th>\n",
       "      <th></th>\n",
       "      <th></th>\n",
       "      <th></th>\n",
       "    </tr>\n",
       "  </thead>\n",
       "  <tbody>\n",
       "    <tr>\n",
       "      <th>976</th>\n",
       "      <td>83</td>\n",
       "      <td>588</td>\n",
       "      <td>24.323129</td>\n",
       "      <td>788424.0</td>\n",
       "    </tr>\n",
       "    <tr>\n",
       "      <th>1575</th>\n",
       "      <td>44</td>\n",
       "      <td>546</td>\n",
       "      <td>60.613553</td>\n",
       "      <td>4267546.0</td>\n",
       "    </tr>\n",
       "    <tr>\n",
       "      <th>2378</th>\n",
       "      <td>53</td>\n",
       "      <td>422</td>\n",
       "      <td>137.507109</td>\n",
       "      <td>7686331.0</td>\n",
       "    </tr>\n",
       "    <tr>\n",
       "      <th>151</th>\n",
       "      <td>40</td>\n",
       "      <td>376</td>\n",
       "      <td>77.194149</td>\n",
       "      <td>270198.0</td>\n",
       "    </tr>\n",
       "    <tr>\n",
       "      <th>2809</th>\n",
       "      <td>70</td>\n",
       "      <td>355</td>\n",
       "      <td>37.539718</td>\n",
       "      <td>540395.0</td>\n",
       "    </tr>\n",
       "  </tbody>\n",
       "</table>\n",
       "</div>"
      ],
      "text/plain": [
       "           product_number  sold_transaction  product_price_mean  \\\n",
       "seller_id                                                         \n",
       "976                    83               588           24.323129   \n",
       "1575                   44               546           60.613553   \n",
       "2378                   53               422          137.507109   \n",
       "151                    40               376           77.194149   \n",
       "2809                   70               355           37.539718   \n",
       "\n",
       "           sold_quantity_sum  \n",
       "seller_id                     \n",
       "976                 788424.0  \n",
       "1575               4267546.0  \n",
       "2378               7686331.0  \n",
       "151                 270198.0  \n",
       "2809                540395.0  "
      ]
     },
     "execution_count": 180,
     "metadata": {},
     "output_type": "execute_result"
    }
   ],
   "source": [
    "seller = product.groupby(['seller_id'])[['product_id']].count()\n",
    "seller['sold_transaction'] = transaction.groupby(['seller_id'])['product_id'].count()\n",
    "seller['product_price_mean']=transaction.groupby(['seller_id'])[['product_price']].mean()\n",
    "#seller['product_price_max']=transaction.groupby(['seller_id'])[['product_price']].max()\n",
    "seller['sold_quantity_sum']=transaction.groupby(['seller_id'])[['sold_quantity']].sum()\n",
    "#seller['sold_quantity_max']=transaction.groupby(['seller_id'])[['sold_quantity']].max()\n",
    "seller.columns=['product_number', 'sold_transaction', 'product_price_mean','sold_quantity_sum']\n",
    "seller.sort_values(by='sold_transaction',ascending=False).head()"
   ]
  },
  {
   "cell_type": "code",
   "execution_count": 204,
   "id": "ad737461",
   "metadata": {},
   "outputs": [
    {
     "data": {
      "text/html": [
       "<div>\n",
       "<style scoped>\n",
       "    .dataframe tbody tr th:only-of-type {\n",
       "        vertical-align: middle;\n",
       "    }\n",
       "\n",
       "    .dataframe tbody tr th {\n",
       "        vertical-align: top;\n",
       "    }\n",
       "\n",
       "    .dataframe thead th {\n",
       "        text-align: right;\n",
       "    }\n",
       "</style>\n",
       "<table border=\"1\" class=\"dataframe\">\n",
       "  <thead>\n",
       "    <tr style=\"text-align: right;\">\n",
       "      <th></th>\n",
       "      <th>seller_id</th>\n",
       "      <th>sold_quantity_sum</th>\n",
       "      <th>percentage</th>\n",
       "    </tr>\n",
       "  </thead>\n",
       "  <tbody>\n",
       "    <tr>\n",
       "      <th>0</th>\n",
       "      <td>2378.0</td>\n",
       "      <td>7686331.0</td>\n",
       "      <td>0.458367</td>\n",
       "    </tr>\n",
       "    <tr>\n",
       "      <th>1</th>\n",
       "      <td>1575.0</td>\n",
       "      <td>4267546.0</td>\n",
       "      <td>0.254491</td>\n",
       "    </tr>\n",
       "    <tr>\n",
       "      <th>2</th>\n",
       "      <td>3550.0</td>\n",
       "      <td>883192.0</td>\n",
       "      <td>0.052668</td>\n",
       "    </tr>\n",
       "    <tr>\n",
       "      <th>3</th>\n",
       "      <td>976.0</td>\n",
       "      <td>788424.0</td>\n",
       "      <td>0.047017</td>\n",
       "    </tr>\n",
       "    <tr>\n",
       "      <th>4</th>\n",
       "      <td>4867.0</td>\n",
       "      <td>691366.0</td>\n",
       "      <td>0.041229</td>\n",
       "    </tr>\n",
       "    <tr>\n",
       "      <th>5</th>\n",
       "      <td>2809.0</td>\n",
       "      <td>540395.0</td>\n",
       "      <td>0.032226</td>\n",
       "    </tr>\n",
       "    <tr>\n",
       "      <th>6</th>\n",
       "      <td>697.0</td>\n",
       "      <td>328421.0</td>\n",
       "      <td>0.019585</td>\n",
       "    </tr>\n",
       "    <tr>\n",
       "      <th>8</th>\n",
       "      <td>other</td>\n",
       "      <td>1583277.0</td>\n",
       "      <td>0.094417</td>\n",
       "    </tr>\n",
       "  </tbody>\n",
       "</table>\n",
       "</div>"
      ],
      "text/plain": [
       "  seller_id  sold_quantity_sum  percentage\n",
       "0    2378.0          7686331.0    0.458367\n",
       "1    1575.0          4267546.0    0.254491\n",
       "2    3550.0           883192.0    0.052668\n",
       "3     976.0           788424.0    0.047017\n",
       "4    4867.0           691366.0    0.041229\n",
       "5    2809.0           540395.0    0.032226\n",
       "6     697.0           328421.0    0.019585\n",
       "8     other          1583277.0    0.094417"
      ]
     },
     "execution_count": 204,
     "metadata": {},
     "output_type": "execute_result"
    }
   ],
   "source": [
    "b=seller.loc[:,['sold_quantity_sum']].sort_values(by='sold_quantity_sum',ascending=False).head(7)\n",
    "b=b.reset_index()\n",
    "b.loc[8,:]=['other',sum(seller['sold_quantity_sum'])-sum(b['sold_quantity_sum'])]\n",
    "b['percentage']=b['sold_quantity_sum']/sum(b['sold_quantity_sum'])\n",
    "b"
   ]
  },
  {
   "cell_type": "code",
   "execution_count": 199,
   "id": "852248d3",
   "metadata": {},
   "outputs": [
    {
     "data": {
      "text/html": [
       "\n",
       "<script>\n",
       "    require.config({\n",
       "        paths: {\n",
       "            'echarts':'https://assets.pyecharts.org/assets/echarts.min', 'westeros':'https://assets.pyecharts.org/assets/themes/westeros'\n",
       "        }\n",
       "    });\n",
       "</script>\n",
       "\n",
       "        <div id=\"b1956b31622e4b6ea7c71204c4c341d9\" style=\"width:400px; height:400px;\"></div>\n",
       "\n",
       "<script>\n",
       "        require(['echarts', 'westeros'], function(echarts) {\n",
       "                var chart_b1956b31622e4b6ea7c71204c4c341d9 = echarts.init(\n",
       "                    document.getElementById('b1956b31622e4b6ea7c71204c4c341d9'), 'westeros', {renderer: 'canvas'});\n",
       "                var option_b1956b31622e4b6ea7c71204c4c341d9 = {\n",
       "    \"animation\": true,\n",
       "    \"animationThreshold\": 2000,\n",
       "    \"animationDuration\": 1000,\n",
       "    \"animationEasing\": \"cubicOut\",\n",
       "    \"animationDelay\": 0,\n",
       "    \"animationDurationUpdate\": 300,\n",
       "    \"animationEasingUpdate\": \"cubicOut\",\n",
       "    \"animationDelayUpdate\": 0,\n",
       "    \"series\": [\n",
       "        {\n",
       "            \"type\": \"pie\",\n",
       "            \"clockwise\": true,\n",
       "            \"data\": [\n",
       "                {\n",
       "                    \"name\": 2378.0,\n",
       "                    \"value\": 7686331.0\n",
       "                },\n",
       "                {\n",
       "                    \"name\": 1575.0,\n",
       "                    \"value\": 4267546.0\n",
       "                },\n",
       "                {\n",
       "                    \"name\": 3550.0,\n",
       "                    \"value\": 883192.0\n",
       "                },\n",
       "                {\n",
       "                    \"name\": 976.0,\n",
       "                    \"value\": 788424.0\n",
       "                },\n",
       "                {\n",
       "                    \"name\": 4867.0,\n",
       "                    \"value\": 691366.0\n",
       "                },\n",
       "                {\n",
       "                    \"name\": 2809.0,\n",
       "                    \"value\": 540395.0\n",
       "                },\n",
       "                {\n",
       "                    \"name\": 697.0,\n",
       "                    \"value\": 328421.0\n",
       "                },\n",
       "                {\n",
       "                    \"name\": \"other\",\n",
       "                    \"value\": 1583277.0\n",
       "                }\n",
       "            ],\n",
       "            \"radius\": [\n",
       "                \"30%\",\n",
       "                \"55%\"\n",
       "            ],\n",
       "            \"center\": [\n",
       "                \"50%\",\n",
       "                \"50%\"\n",
       "            ],\n",
       "            \"roseType\": \"radius\",\n",
       "            \"label\": {\n",
       "                \"show\": true,\n",
       "                \"position\": \"top\",\n",
       "                \"margin\": 8\n",
       "            }\n",
       "        }\n",
       "    ],\n",
       "    \"legend\": [\n",
       "        {\n",
       "            \"data\": [\n",
       "                2378.0,\n",
       "                1575.0,\n",
       "                3550.0,\n",
       "                976.0,\n",
       "                4867.0,\n",
       "                2809.0,\n",
       "                697.0,\n",
       "                \"other\"\n",
       "            ],\n",
       "            \"selected\": {},\n",
       "            \"show\": false,\n",
       "            \"padding\": 5,\n",
       "            \"itemGap\": 10,\n",
       "            \"itemWidth\": 25,\n",
       "            \"itemHeight\": 14\n",
       "        }\n",
       "    ],\n",
       "    \"tooltip\": {\n",
       "        \"show\": true,\n",
       "        \"trigger\": \"item\",\n",
       "        \"triggerOn\": \"mousemove|click\",\n",
       "        \"axisPointer\": {\n",
       "            \"type\": \"line\"\n",
       "        },\n",
       "        \"showContent\": true,\n",
       "        \"alwaysShowContent\": false,\n",
       "        \"showDelay\": 0,\n",
       "        \"hideDelay\": 100,\n",
       "        \"textStyle\": {\n",
       "            \"fontSize\": 14\n",
       "        },\n",
       "        \"borderWidth\": 0,\n",
       "        \"padding\": 5\n",
       "    },\n",
       "    \"title\": [\n",
       "        {\n",
       "            \"text\": \"seller\\u7ade\\u4e89\\u683c\\u5c40\\uff08\\u6309\\u5386\\u53f2\\u9500\\u552e\\u91cf\\u603b\\u548c\\uff09\",\n",
       "            \"padding\": 5,\n",
       "            \"itemGap\": 10\n",
       "        }\n",
       "    ]\n",
       "};\n",
       "                chart_b1956b31622e4b6ea7c71204c4c341d9.setOption(option_b1956b31622e4b6ea7c71204c4c341d9);\n",
       "        });\n",
       "    </script>\n"
      ],
      "text/plain": [
       "<pyecharts.render.display.HTML at 0x7faad6b4a160>"
      ]
     },
     "execution_count": 199,
     "metadata": {},
     "output_type": "execute_result"
    }
   ],
   "source": [
    "p= (\n",
    "    Pie(init_opts=opts.InitOpts(width=\"400px\", height=\"400px\",theme=ThemeType.WESTEROS))\n",
    "    .add('',[list(z) for z in zip(b['seller_id'],b['sold_quantity_sum'])],\n",
    "        rosetype=\"radius\",\n",
    "            radius=[\"30%\", \"55%\"],)\n",
    "    .set_global_opts(title_opts=opts.TitleOpts(title=\"seller竞争格局（按历史总销量）\"), \n",
    "                legend_opts=opts.LegendOpts(is_show=False))\n",
    ")\n",
    "\n",
    "p.render_notebook()"
   ]
  },
  {
   "cell_type": "code",
   "execution_count": 139,
   "id": "c58fb1e5",
   "metadata": {},
   "outputs": [
    {
     "data": {
      "text/html": [
       "<div>\n",
       "<style scoped>\n",
       "    .dataframe tbody tr th:only-of-type {\n",
       "        vertical-align: middle;\n",
       "    }\n",
       "\n",
       "    .dataframe tbody tr th {\n",
       "        vertical-align: top;\n",
       "    }\n",
       "\n",
       "    .dataframe thead th {\n",
       "        text-align: right;\n",
       "    }\n",
       "</style>\n",
       "<table border=\"1\" class=\"dataframe\">\n",
       "  <thead>\n",
       "    <tr style=\"text-align: right;\">\n",
       "      <th></th>\n",
       "      <th>product_id</th>\n",
       "    </tr>\n",
       "    <tr>\n",
       "      <th>order_id</th>\n",
       "      <th></th>\n",
       "    </tr>\n",
       "  </thead>\n",
       "  <tbody>\n",
       "    <tr>\n",
       "      <th>2378-1004</th>\n",
       "      <td>[4843]</td>\n",
       "    </tr>\n",
       "    <tr>\n",
       "      <th>2378-1009</th>\n",
       "      <td>[1450, 1924]</td>\n",
       "    </tr>\n",
       "    <tr>\n",
       "      <th>2378-1035</th>\n",
       "      <td>[1924]</td>\n",
       "    </tr>\n",
       "    <tr>\n",
       "      <th>2378-104</th>\n",
       "      <td>[771]</td>\n",
       "    </tr>\n",
       "    <tr>\n",
       "      <th>2378-1058</th>\n",
       "      <td>[1924]</td>\n",
       "    </tr>\n",
       "  </tbody>\n",
       "</table>\n",
       "</div>"
      ],
      "text/plain": [
       "             product_id\n",
       "order_id               \n",
       "2378-1004        [4843]\n",
       "2378-1009  [1450, 1924]\n",
       "2378-1035        [1924]\n",
       "2378-104          [771]\n",
       "2378-1058        [1924]"
      ]
     },
     "execution_count": 139,
     "metadata": {},
     "output_type": "execute_result"
    }
   ],
   "source": [
    "seller2378=transaction[transaction['seller_id']==2378]\n",
    "order3=seller2378.groupby(['order_id'])['product_id'].apply(list).to_frame()\n",
    "order3.head()"
   ]
  },
  {
   "cell_type": "code",
   "execution_count": 217,
   "id": "d40c6f9f",
   "metadata": {},
   "outputs": [
    {
     "data": {
      "text/html": [
       "\n",
       "<script>\n",
       "    require.config({\n",
       "        paths: {\n",
       "            'echarts':'https://assets.pyecharts.org/assets/echarts.min', 'westeros':'https://assets.pyecharts.org/assets/themes/westeros'\n",
       "        }\n",
       "    });\n",
       "</script>\n",
       "\n",
       "        <div id=\"205d635fd3f747c88be79f3d4acfaa2b\" style=\"width:500px; height:400px;\"></div>\n",
       "\n",
       "<script>\n",
       "        require(['echarts', 'westeros'], function(echarts) {\n",
       "                var chart_205d635fd3f747c88be79f3d4acfaa2b = echarts.init(\n",
       "                    document.getElementById('205d635fd3f747c88be79f3d4acfaa2b'), 'westeros', {renderer: 'canvas'});\n",
       "                var option_205d635fd3f747c88be79f3d4acfaa2b = {\n",
       "    \"animation\": true,\n",
       "    \"animationThreshold\": 2000,\n",
       "    \"animationDuration\": 1000,\n",
       "    \"animationEasing\": \"cubicOut\",\n",
       "    \"animationDelay\": 0,\n",
       "    \"animationDurationUpdate\": 300,\n",
       "    \"animationEasingUpdate\": \"cubicOut\",\n",
       "    \"animationDelayUpdate\": 0,\n",
       "    \"series\": [\n",
       "        {\n",
       "            \"type\": \"pie\",\n",
       "            \"clockwise\": true,\n",
       "            \"data\": [\n",
       "                {\n",
       "                    \"name\": \"best-seller ; high-end\",\n",
       "                    \"value\": 79631.0\n",
       "                },\n",
       "                {\n",
       "                    \"name\": \"dull-product ; high-end\",\n",
       "                    \"value\": 657.0\n",
       "                },\n",
       "                {\n",
       "                    \"name\": \"normal-product ; high-end\",\n",
       "                    \"value\": 1698.0\n",
       "                },\n",
       "                {\n",
       "                    \"name\": \"well-seller ; high-end\",\n",
       "                    \"value\": 6384.0\n",
       "                },\n",
       "                {\n",
       "                    \"name\": \"well-seller ; low-end\",\n",
       "                    \"value\": 681.0\n",
       "                }\n",
       "            ],\n",
       "            \"radius\": [\n",
       "                \"30%\",\n",
       "                \"55%\"\n",
       "            ],\n",
       "            \"center\": [\n",
       "                \"50%\",\n",
       "                \"50%\"\n",
       "            ],\n",
       "            \"roseType\": \"radius\",\n",
       "            \"label\": {\n",
       "                \"show\": true,\n",
       "                \"position\": \"top\",\n",
       "                \"margin\": 8\n",
       "            }\n",
       "        }\n",
       "    ],\n",
       "    \"legend\": [\n",
       "        {\n",
       "            \"data\": [\n",
       "                \"best-seller ; high-end\",\n",
       "                \"dull-product ; high-end\",\n",
       "                \"normal-product ; high-end\",\n",
       "                \"well-seller ; high-end\",\n",
       "                \"well-seller ; low-end\"\n",
       "            ],\n",
       "            \"selected\": {},\n",
       "            \"type\": \"scroll\",\n",
       "            \"show\": false,\n",
       "            \"right\": \"right\",\n",
       "            \"orient\": \"vertical\",\n",
       "            \"padding\": 5,\n",
       "            \"itemGap\": 10,\n",
       "            \"itemWidth\": 25,\n",
       "            \"itemHeight\": 14\n",
       "        }\n",
       "    ],\n",
       "    \"tooltip\": {\n",
       "        \"show\": true,\n",
       "        \"trigger\": \"item\",\n",
       "        \"triggerOn\": \"mousemove|click\",\n",
       "        \"axisPointer\": {\n",
       "            \"type\": \"line\"\n",
       "        },\n",
       "        \"showContent\": true,\n",
       "        \"alwaysShowContent\": false,\n",
       "        \"showDelay\": 0,\n",
       "        \"hideDelay\": 100,\n",
       "        \"textStyle\": {\n",
       "            \"fontSize\": 14\n",
       "        },\n",
       "        \"borderWidth\": 0,\n",
       "        \"padding\": 5\n",
       "    },\n",
       "    \"title\": [\n",
       "        {\n",
       "            \"text\": \"seller2378\\u7684\\u4ea7\\u54c1\\u7c7b\\u578b\\uff08\\u6309\\u9500\\u91cf\\uff09\",\n",
       "            \"padding\": 5,\n",
       "            \"itemGap\": 10\n",
       "        }\n",
       "    ]\n",
       "};\n",
       "                chart_205d635fd3f747c88be79f3d4acfaa2b.setOption(option_205d635fd3f747c88be79f3d4acfaa2b);\n",
       "        });\n",
       "    </script>\n"
      ],
      "text/plain": [
       "<pyecharts.render.display.HTML at 0x7faad84f8d00>"
      ]
     },
     "execution_count": 217,
     "metadata": {},
     "output_type": "execute_result"
    }
   ],
   "source": [
    "a=product[product['seller_id']==2378].groupby(['cluster'])['sold_quantity'].count().to_frame()\n",
    "a['sold_quantity_sum']=product[product['seller_id']==2378].groupby(['cluster'])['sold_quantity'].sum()\n",
    "a=a.reset_index()\n",
    "p= (\n",
    "    Pie(init_opts=opts.InitOpts(width=\"500px\", height=\"400px\",theme=ThemeType.WESTEROS))\n",
    "    .add('',[list(z) for z in zip(a['cluster'],a['sold_quantity_sum'])],\n",
    "        rosetype=\"radius\",\n",
    "        radius=[\"30%\", \"55%\"],\n",
    "        label_opts=opts.LabelOpts(is_show=True))\n",
    "    .set_global_opts(title_opts=opts.TitleOpts(title=\"seller2378的产品类型（按销量）\"), \n",
    "                legend_opts=opts.LegendOpts(is_show=False,type_=\"scroll\", pos_right=\"right\", orient=\"vertical\"))\n",
    ")\n",
    "\n",
    "p.render_notebook()"
   ]
  },
  {
   "cell_type": "code",
   "execution_count": 225,
   "id": "4176120c",
   "metadata": {},
   "outputs": [
    {
     "data": {
      "text/html": [
       "<div>\n",
       "<style scoped>\n",
       "    .dataframe tbody tr th:only-of-type {\n",
       "        vertical-align: middle;\n",
       "    }\n",
       "\n",
       "    .dataframe tbody tr th {\n",
       "        vertical-align: top;\n",
       "    }\n",
       "\n",
       "    .dataframe thead th {\n",
       "        text-align: right;\n",
       "    }\n",
       "</style>\n",
       "<table border=\"1\" class=\"dataframe\">\n",
       "  <thead>\n",
       "    <tr style=\"text-align: right;\">\n",
       "      <th></th>\n",
       "      <th>product_id</th>\n",
       "      <th>product_price</th>\n",
       "      <th>seller_id</th>\n",
       "      <th>sold_quantity</th>\n",
       "      <th>count</th>\n",
       "      <th>price_cluster</th>\n",
       "      <th>quantity_cluster</th>\n",
       "      <th>cluster</th>\n",
       "    </tr>\n",
       "  </thead>\n",
       "  <tbody>\n",
       "    <tr>\n",
       "      <th>1178</th>\n",
       "      <td>1924</td>\n",
       "      <td>138.0</td>\n",
       "      <td>2378</td>\n",
       "      <td>59967.0</td>\n",
       "      <td>122</td>\n",
       "      <td>high-end</td>\n",
       "      <td>best-seller</td>\n",
       "      <td>best-seller ; high-end</td>\n",
       "    </tr>\n",
       "    <tr>\n",
       "      <th>1068</th>\n",
       "      <td>748</td>\n",
       "      <td>138.0</td>\n",
       "      <td>2378</td>\n",
       "      <td>1007.0</td>\n",
       "      <td>23</td>\n",
       "      <td>high-end</td>\n",
       "      <td>best-seller</td>\n",
       "      <td>best-seller ; high-end</td>\n",
       "    </tr>\n",
       "  </tbody>\n",
       "</table>\n",
       "</div>"
      ],
      "text/plain": [
       "      product_id  product_price  seller_id  sold_quantity  count  \\\n",
       "1178        1924          138.0       2378        59967.0    122   \n",
       "1068         748          138.0       2378         1007.0     23   \n",
       "\n",
       "     price_cluster quantity_cluster                 cluster  \n",
       "1178      high-end      best-seller  best-seller ; high-end  \n",
       "1068      high-end      best-seller  best-seller ; high-end  "
      ]
     },
     "execution_count": 225,
     "metadata": {},
     "output_type": "execute_result"
    }
   ],
   "source": [
    "product.loc[(product['seller_id']==2378)&(product['product_id']==1924)].append(product.loc[(product['seller_id']==2378)&(product['product_id']==748)])"
   ]
  },
  {
   "cell_type": "markdown",
   "id": "4a4d0bd1",
   "metadata": {},
   "source": [
    "### 后续关联数据挖掘部分代码见“ARM2”"
   ]
  }
 ],
 "metadata": {
  "kernelspec": {
   "display_name": "Python 3 (ipykernel)",
   "language": "python",
   "name": "python3"
  },
  "language_info": {
   "codemirror_mode": {
    "name": "ipython",
    "version": 3
   },
   "file_extension": ".py",
   "mimetype": "text/x-python",
   "name": "python",
   "nbconvert_exporter": "python",
   "pygments_lexer": "ipython3",
   "version": "3.9.12"
  }
 },
 "nbformat": 4,
 "nbformat_minor": 5
}
